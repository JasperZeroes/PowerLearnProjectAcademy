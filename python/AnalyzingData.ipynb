{
 "cells": [
  {
   "cell_type": "markdown",
   "id": "80b4d7dd-468a-4cbe-a40c-026431af0fa8",
   "metadata": {},
   "source": [
    "# Task 1: Load and Explore the Dataset\n",
    "\n",
    "In this section, we will:\n",
    "- Load the dataset\n",
    "- Display the first few rows\n",
    "- Check for missing values\n",
    "- Explore data types\n",
    "- Clean the dataset"
   ]
  },
  {
   "cell_type": "markdown",
   "id": "0e4948a7-c1b7-4f9d-8a81-12baf2f55fc4",
   "metadata": {},
   "source": [
    "# Task 1: Load and Explore the Dataset\n",
    "\n",
    "In this section, we will:\n",
    "- Load the dataset\n",
    "- Display the first few rows\n",
    "- Check for missing values\n",
    "- Explore data types\n",
    "- Clean the dataset"
   ]
  },
  {
   "cell_type": "code",
   "execution_count": 10,
   "id": "f347698c-dd30-4dcd-be57-e0be01d14eb0",
   "metadata": {},
   "outputs": [
    {
     "data": {
      "text/html": [
       "<div>\n",
       "<style scoped>\n",
       "    .dataframe tbody tr th:only-of-type {\n",
       "        vertical-align: middle;\n",
       "    }\n",
       "\n",
       "    .dataframe tbody tr th {\n",
       "        vertical-align: top;\n",
       "    }\n",
       "\n",
       "    .dataframe thead th {\n",
       "        text-align: right;\n",
       "    }\n",
       "</style>\n",
       "<table border=\"1\" class=\"dataframe\">\n",
       "  <thead>\n",
       "    <tr style=\"text-align: right;\">\n",
       "      <th></th>\n",
       "      <th>Date</th>\n",
       "      <th>Region</th>\n",
       "      <th>SalesPerson</th>\n",
       "      <th>Product</th>\n",
       "      <th>UnitsSold</th>\n",
       "      <th>UnitPrice</th>\n",
       "      <th>Revenue</th>\n",
       "    </tr>\n",
       "  </thead>\n",
       "  <tbody>\n",
       "    <tr>\n",
       "      <th>0</th>\n",
       "      <td>2023-01-01</td>\n",
       "      <td>North</td>\n",
       "      <td>Bob</td>\n",
       "      <td>D</td>\n",
       "      <td>NaN</td>\n",
       "      <td>NaN</td>\n",
       "      <td>NaN</td>\n",
       "    </tr>\n",
       "    <tr>\n",
       "      <th>1</th>\n",
       "      <td>2023-01-02</td>\n",
       "      <td>NaN</td>\n",
       "      <td>Diana</td>\n",
       "      <td>A</td>\n",
       "      <td>NaN</td>\n",
       "      <td>24.16</td>\n",
       "      <td>NaN</td>\n",
       "    </tr>\n",
       "    <tr>\n",
       "      <th>2</th>\n",
       "      <td>2023-01-03</td>\n",
       "      <td>North</td>\n",
       "      <td>Charlie</td>\n",
       "      <td>A</td>\n",
       "      <td>NaN</td>\n",
       "      <td>NaN</td>\n",
       "      <td>NaN</td>\n",
       "    </tr>\n",
       "    <tr>\n",
       "      <th>3</th>\n",
       "      <td>2023-01-04</td>\n",
       "      <td>North</td>\n",
       "      <td>Alice</td>\n",
       "      <td>B</td>\n",
       "      <td>NaN</td>\n",
       "      <td>NaN</td>\n",
       "      <td>NaN</td>\n",
       "    </tr>\n",
       "    <tr>\n",
       "      <th>4</th>\n",
       "      <td>2023-01-05</td>\n",
       "      <td>West</td>\n",
       "      <td>Charlie</td>\n",
       "      <td>D</td>\n",
       "      <td>NaN</td>\n",
       "      <td>16.20</td>\n",
       "      <td>NaN</td>\n",
       "    </tr>\n",
       "  </tbody>\n",
       "</table>\n",
       "</div>"
      ],
      "text/plain": [
       "         Date Region SalesPerson Product  UnitsSold  UnitPrice  Revenue\n",
       "0  2023-01-01  North         Bob       D        NaN        NaN      NaN\n",
       "1  2023-01-02    NaN       Diana       A        NaN      24.16      NaN\n",
       "2  2023-01-03  North     Charlie       A        NaN        NaN      NaN\n",
       "3  2023-01-04  North       Alice       B        NaN        NaN      NaN\n",
       "4  2023-01-05   West     Charlie       D        NaN      16.20      NaN"
      ]
     },
     "execution_count": 10,
     "metadata": {},
     "output_type": "execute_result"
    }
   ],
   "source": [
    "import pandas as pd\n",
    "\n",
    "# Load the dataset\n",
    "df = pd.read_csv(\"sales.csv\")\n",
    "\n",
    "# Display the first few rows\n",
    "df.head()"
   ]
  },
  {
   "cell_type": "code",
   "execution_count": 2,
   "id": "5e1aa46b-7ddd-47bd-ba0c-436f4bd8e58c",
   "metadata": {},
   "outputs": [
    {
     "name": "stdout",
     "output_type": "stream",
     "text": [
      "<class 'pandas.core.frame.DataFrame'>\n",
      "RangeIndex: 20 entries, 0 to 19\n",
      "Data columns (total 7 columns):\n",
      " #   Column       Non-Null Count  Dtype  \n",
      "---  ------       --------------  -----  \n",
      " 0   Date         20 non-null     object \n",
      " 1   Region       16 non-null     object \n",
      " 2   SalesPerson  17 non-null     object \n",
      " 3   Product      20 non-null     object \n",
      " 4   UnitsSold    10 non-null     float64\n",
      " 5   UnitPrice    8 non-null      float64\n",
      " 6   Revenue      3 non-null      float64\n",
      "dtypes: float64(3), object(4)\n",
      "memory usage: 1.2+ KB\n"
     ]
    }
   ],
   "source": [
    "# Check data types and missing values\n",
    "df.info()\n"
   ]
  },
  {
   "cell_type": "code",
   "execution_count": 3,
   "id": "f9e3321f-d44e-4bf4-86c0-f72ee6c701f8",
   "metadata": {},
   "outputs": [
    {
     "data": {
      "text/plain": [
       "Date            0\n",
       "Region          4\n",
       "SalesPerson     3\n",
       "Product         0\n",
       "UnitsSold      10\n",
       "UnitPrice      12\n",
       "Revenue        17\n",
       "dtype: int64"
      ]
     },
     "execution_count": 3,
     "metadata": {},
     "output_type": "execute_result"
    }
   ],
   "source": [
    "# Display missing values per column\n",
    "df.isnull().sum()\n"
   ]
  },
  {
   "cell_type": "code",
   "execution_count": 11,
   "id": "d02cf19d-3c38-4b28-a434-2a2a5b51c697",
   "metadata": {},
   "outputs": [
    {
     "data": {
      "text/html": [
       "<div>\n",
       "<style scoped>\n",
       "    .dataframe tbody tr th:only-of-type {\n",
       "        vertical-align: middle;\n",
       "    }\n",
       "\n",
       "    .dataframe tbody tr th {\n",
       "        vertical-align: top;\n",
       "    }\n",
       "\n",
       "    .dataframe thead th {\n",
       "        text-align: right;\n",
       "    }\n",
       "</style>\n",
       "<table border=\"1\" class=\"dataframe\">\n",
       "  <thead>\n",
       "    <tr style=\"text-align: right;\">\n",
       "      <th></th>\n",
       "      <th>Date</th>\n",
       "      <th>Region</th>\n",
       "      <th>SalesPerson</th>\n",
       "      <th>Product</th>\n",
       "      <th>UnitsSold</th>\n",
       "      <th>UnitPrice</th>\n",
       "      <th>Revenue</th>\n",
       "    </tr>\n",
       "  </thead>\n",
       "  <tbody>\n",
       "    <tr>\n",
       "      <th>0</th>\n",
       "      <td>2023-01-01</td>\n",
       "      <td>North</td>\n",
       "      <td>Bob</td>\n",
       "      <td>D</td>\n",
       "      <td>51.5</td>\n",
       "      <td>24.745</td>\n",
       "      <td>1317.16</td>\n",
       "    </tr>\n",
       "    <tr>\n",
       "      <th>1</th>\n",
       "      <td>2023-01-02</td>\n",
       "      <td>Unknown</td>\n",
       "      <td>Diana</td>\n",
       "      <td>A</td>\n",
       "      <td>51.5</td>\n",
       "      <td>24.160</td>\n",
       "      <td>1317.16</td>\n",
       "    </tr>\n",
       "    <tr>\n",
       "      <th>2</th>\n",
       "      <td>2023-01-03</td>\n",
       "      <td>North</td>\n",
       "      <td>Charlie</td>\n",
       "      <td>A</td>\n",
       "      <td>51.5</td>\n",
       "      <td>24.745</td>\n",
       "      <td>1317.16</td>\n",
       "    </tr>\n",
       "    <tr>\n",
       "      <th>3</th>\n",
       "      <td>2023-01-04</td>\n",
       "      <td>North</td>\n",
       "      <td>Alice</td>\n",
       "      <td>B</td>\n",
       "      <td>51.5</td>\n",
       "      <td>24.745</td>\n",
       "      <td>1317.16</td>\n",
       "    </tr>\n",
       "    <tr>\n",
       "      <th>4</th>\n",
       "      <td>2023-01-05</td>\n",
       "      <td>West</td>\n",
       "      <td>Charlie</td>\n",
       "      <td>D</td>\n",
       "      <td>51.5</td>\n",
       "      <td>16.200</td>\n",
       "      <td>1317.16</td>\n",
       "    </tr>\n",
       "  </tbody>\n",
       "</table>\n",
       "</div>"
      ],
      "text/plain": [
       "         Date   Region SalesPerson Product  UnitsSold  UnitPrice  Revenue\n",
       "0  2023-01-01    North         Bob       D       51.5     24.745  1317.16\n",
       "1  2023-01-02  Unknown       Diana       A       51.5     24.160  1317.16\n",
       "2  2023-01-03    North     Charlie       A       51.5     24.745  1317.16\n",
       "3  2023-01-04    North       Alice       B       51.5     24.745  1317.16\n",
       "4  2023-01-05     West     Charlie       D       51.5     16.200  1317.16"
      ]
     },
     "execution_count": 11,
     "metadata": {},
     "output_type": "execute_result"
    }
   ],
   "source": [
    "# Clean the dataset by filling missing values\n",
    "df_cleaned = df.fillna({\n",
    "    'Region': 'Unknown',\n",
    "    'SalesPerson': 'Unknown',\n",
    "    'UnitsSold': df['UnitsSold'].median(),\n",
    "    'UnitPrice': df['UnitPrice'].median(),\n",
    "    'Revenue': df['Revenue'].median()\n",
    "})\n",
    "df_cleaned.head()\n"
   ]
  },
  {
   "cell_type": "markdown",
   "id": "0fbf5cc0-aaf3-4c96-892c-894a34674134",
   "metadata": {},
   "source": [
    "### Why Use the Median to Fill Missing Numerical Values?\n",
    "\n",
    "When handling missing values in numerical columns such as `UnitsSold`, `UnitPrice`, and `Revenue`, we chose to use the **median** instead of the **mean**. This decision is based on several important considerations:\n",
    "\n",
    "1. **Robustness to Outliers**:  \n",
    "   The **mean** is sensitive to extreme values (outliers), which can skew the results and give a misleading representation of the data's central tendency. The **median**, on the other hand, represents the middle value and is not affected by unusually high or low values.\n",
    "\n",
    "2. **Skewed Distributions**:  \n",
    "   In many real-world datasets, the distribution of numerical variables is not perfectly symmetric. For example, most sales might be low, with a few large deals causing a long tail. In such cases, the **median** better represents a \"typical\" value.\n",
    "\n",
    "3. **Preserves Data Integrity**:  \n",
    "   By using the median, we avoid introducing artificial bias from outliers or extreme values that would distort downstream analysis (like averages or totals).\n",
    "\n",
    "4. **Consistency in Imputation**:  \n",
    "   Median imputation ensures that the replacement values are grounded in actual data patterns, which can lead to more accurate and reliable statistical and machine learning results.\n",
    "\n",
    "Therefore, for columns like `UnitsSold`, `UnitPrice`, and `Revenue`, the **median** offers a safer and more stable method for handling missing data.\n",
    "\n"
   ]
  },
  {
   "cell_type": "markdown",
   "id": "73613006-91e2-49ac-a93b-481292cdadf6",
   "metadata": {},
   "source": [
    "# Task 2: Basic Data Analysis\n",
    "\n",
    "We will:\n",
    "- Compute basic statistics\n",
    "- Group data by categorical features\n",
    "- Identify interesting patterns\n"
   ]
  },
  {
   "cell_type": "code",
   "execution_count": 12,
   "id": "7e7ebacc-c148-44c5-ba09-37fc8c5d87dd",
   "metadata": {},
   "outputs": [
    {
     "data": {
      "text/html": [
       "<div>\n",
       "<style scoped>\n",
       "    .dataframe tbody tr th:only-of-type {\n",
       "        vertical-align: middle;\n",
       "    }\n",
       "\n",
       "    .dataframe tbody tr th {\n",
       "        vertical-align: top;\n",
       "    }\n",
       "\n",
       "    .dataframe thead th {\n",
       "        text-align: right;\n",
       "    }\n",
       "</style>\n",
       "<table border=\"1\" class=\"dataframe\">\n",
       "  <thead>\n",
       "    <tr style=\"text-align: right;\">\n",
       "      <th></th>\n",
       "      <th>UnitsSold</th>\n",
       "      <th>UnitPrice</th>\n",
       "      <th>Revenue</th>\n",
       "    </tr>\n",
       "  </thead>\n",
       "  <tbody>\n",
       "    <tr>\n",
       "      <th>count</th>\n",
       "      <td>20.000000</td>\n",
       "      <td>20.000000</td>\n",
       "      <td>20.000000</td>\n",
       "    </tr>\n",
       "    <tr>\n",
       "      <th>mean</th>\n",
       "      <td>50.800000</td>\n",
       "      <td>26.187500</td>\n",
       "      <td>1297.974500</td>\n",
       "    </tr>\n",
       "    <tr>\n",
       "      <th>std</th>\n",
       "      <td>20.168631</td>\n",
       "      <td>6.783776</td>\n",
       "      <td>208.963074</td>\n",
       "    </tr>\n",
       "    <tr>\n",
       "      <th>min</th>\n",
       "      <td>9.000000</td>\n",
       "      <td>16.200000</td>\n",
       "      <td>507.490000</td>\n",
       "    </tr>\n",
       "    <tr>\n",
       "      <th>25%</th>\n",
       "      <td>51.375000</td>\n",
       "      <td>24.745000</td>\n",
       "      <td>1317.160000</td>\n",
       "    </tr>\n",
       "    <tr>\n",
       "      <th>50%</th>\n",
       "      <td>51.500000</td>\n",
       "      <td>24.745000</td>\n",
       "      <td>1317.160000</td>\n",
       "    </tr>\n",
       "    <tr>\n",
       "      <th>75%</th>\n",
       "      <td>51.625000</td>\n",
       "      <td>24.745000</td>\n",
       "      <td>1317.160000</td>\n",
       "    </tr>\n",
       "    <tr>\n",
       "      <th>max</th>\n",
       "      <td>97.000000</td>\n",
       "      <td>49.060000</td>\n",
       "      <td>1743.120000</td>\n",
       "    </tr>\n",
       "  </tbody>\n",
       "</table>\n",
       "</div>"
      ],
      "text/plain": [
       "       UnitsSold  UnitPrice      Revenue\n",
       "count  20.000000  20.000000    20.000000\n",
       "mean   50.800000  26.187500  1297.974500\n",
       "std    20.168631   6.783776   208.963074\n",
       "min     9.000000  16.200000   507.490000\n",
       "25%    51.375000  24.745000  1317.160000\n",
       "50%    51.500000  24.745000  1317.160000\n",
       "75%    51.625000  24.745000  1317.160000\n",
       "max    97.000000  49.060000  1743.120000"
      ]
     },
     "execution_count": 12,
     "metadata": {},
     "output_type": "execute_result"
    }
   ],
   "source": [
    "# Basic statistics\n",
    "df_cleaned.describe()\n"
   ]
  },
  {
   "cell_type": "code",
   "execution_count": 13,
   "id": "92bd9a4d-cdbf-4a03-866d-ec1e62775a28",
   "metadata": {},
   "outputs": [
    {
     "data": {
      "text/plain": [
       "Region\n",
       "East       1047.270000\n",
       "North      1317.160000\n",
       "South      1317.160000\n",
       "Unknown    1317.160000\n",
       "West       1388.153333\n",
       "Name: Revenue, dtype: float64"
      ]
     },
     "execution_count": 13,
     "metadata": {},
     "output_type": "execute_result"
    }
   ],
   "source": [
    "# Group by Region and compute average Revenue\n",
    "region_group = df_cleaned.groupby(\"Region\")[\"Revenue\"].mean()\n",
    "region_group\n"
   ]
  },
  {
   "cell_type": "code",
   "execution_count": 14,
   "id": "a216e496-5411-4d3b-8d2a-b258d5e0f730",
   "metadata": {},
   "outputs": [
    {
     "data": {
      "text/plain": [
       "Product\n",
       "A    52.428571\n",
       "B    40.750000\n",
       "C    55.250000\n",
       "D    53.642857\n",
       "Name: UnitsSold, dtype: float64"
      ]
     },
     "execution_count": 14,
     "metadata": {},
     "output_type": "execute_result"
    }
   ],
   "source": [
    "# Group by Product and compute average Units Sold\n",
    "product_group = df_cleaned.groupby(\"Product\")[\"UnitsSold\"].mean()\n",
    "product_group\n"
   ]
  },
  {
   "cell_type": "markdown",
   "id": "f1bdda28-66b2-4e49-88b8-0825a22d838a",
   "metadata": {},
   "source": [
    "# Task 3: Data Visualization\n",
    "\n",
    "We will create:\n",
    "- Line chart\n",
    "- Bar chart\n",
    "- Histogram\n",
    "- Scatter plot\n"
   ]
  },
  {
   "cell_type": "code",
   "execution_count": 20,
   "id": "53fe7c8c-6e44-482b-99a2-11f9eac71e64",
   "metadata": {},
   "outputs": [],
   "source": [
    "import matplotlib.pyplot as plt\n",
    "import seaborn as sns\n",
    "\n",
    "# Line chart: Revenue over time\n",
    "plt.figure(figsize=(10,5))\n",
    "df_cleaned['Date'] = pd.to_datetime(df_cleaned['Date'])\n",
    "df_cleaned.sort_values('Date', inplace=True)\n",
    "plt.plot(df_cleaned['Date'], df_cleaned['Revenue'], marker='o')\n",
    "plt.title(\"Revenue Over Time\")\n",
    "plt.xlabel(\"Date\")\n",
    "plt.ylabel(\"Revenue\")\n",
    "plt.xticks(rotation=45)\n",
    "plt.tight_layout()\n",
    "plt.show()\n"
   ]
  },
  {
   "cell_type": "code",
   "execution_count": 16,
   "id": "6a8ae37b-74c5-4a49-b9c3-4becc743d35e",
   "metadata": {},
   "outputs": [
    {
     "data": {
      "image/png": "[encoded data removed]",
      "text/plain": [
       "<Figure size 800x500 with 1 Axes>"
      ]
     },
     "metadata": {},
     "output_type": "display_data"
    }
   ],
   "source": [
    "# Bar chart: Average Revenue by Region\n",
    "plt.figure(figsize=(8,5))\n",
    "region_group.plot(kind='bar', color='skyblue')\n",
    "plt.title(\"Average Revenue by Region\")\n",
    "plt.ylabel(\"Average Revenue\")\n",
    "plt.xlabel(\"Region\")\n",
    "plt.tight_layout()\n",
    "plt.show()\n"
   ]
  },
  {
   "cell_type": "code",
   "execution_count": 17,
   "id": "57ef9840-b512-4f40-8372-8db8d3959a61",
   "metadata": {},
   "outputs": [
    {
     "data": {
      "image/png": "[encoded data removed]",
      "text/plain": [
       "<Figure size 800x500 with 1 Axes>"
      ]
     },
     "metadata": {},
     "output_type": "display_data"
    }
   ],
   "source": [
    "# Histogram: Distribution of Units Sold\n",
    "plt.figure(figsize=(8,5))\n",
    "plt.hist(df_cleaned['UnitsSold'], bins=10, color='orange', edgecolor='black')\n",
    "plt.title(\"Distribution of Units Sold\")\n",
    "plt.xlabel(\"Units Sold\")\n",
    "plt.ylabel(\"Frequency\")\n",
    "plt.tight_layout()\n",
    "plt.show()\n"
   ]
  },
  {
   "cell_type": "code",
   "execution_count": 19,
   "id": "5171e301-ee73-42b0-9bc8-2bf2bd664703",
   "metadata": {},
   "outputs": [],
   "source": [
    "# Scatter plot: Units Sold vs Revenue\n",
    "plt.figure(figsize=(8,5))\n",
    "sns.scatterplot(data=df_cleaned, x=\"UnitsSold\", y=\"Revenue\", hue=\"Product\")\n",
    "plt.title(\"Units Sold vs Revenue\")\n",
    "plt.tight_layout()\n",
    "plt.show()\n"
   ]
  },
  {
   "cell_type": "code",
   "execution_count": null,
   "id": "42d5213b-a333-426a-9ed3-c137165fc994",
   "metadata": {},
   "outputs": [],
   "source": []
  }
 ],
 "metadata": {
  "kernelspec": {
   "display_name": "Python 3 (ipykernel)",
   "language": "python",
   "name": "python3"
  },
  "language_info": {
   "codemirror_mode": {
    "name": "ipython",
    "version": 3
   },
   "file_extension": ".py",
   "mimetype": "text/x-python",
   "name": "python",
   "nbconvert_exporter": "python",
   "pygments_lexer": "ipython3",
   "version": "3.10.10"
  }
 },
 "nbformat": 4,
 "nbformat_minor": 5
}
